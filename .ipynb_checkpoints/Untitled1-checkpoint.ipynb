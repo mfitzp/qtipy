{
 "metadata": {
  "name": "",
  "signature": "sha256:592121a1ddc5c8cc25e3360aac5db6e21e88deafa915060c5b91460e14ca4bbe"
 },
 "nbformat": 3,
 "nbformat_minor": 0,
 "worksheets": [
  {
   "cells": [
    {
     "cell_type": "code",
     "collapsed": false,
     "input": [
      "test this out a bit?"
     ],
     "language": "python",
     "metadata": {},
     "outputs": []
    }
   ],
   "metadata": {}
  }
 ]
}